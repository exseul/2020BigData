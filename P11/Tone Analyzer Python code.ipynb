{
 "cells": [
  {
   "cell_type": "code",
   "execution_count": null,
   "metadata": {},
   "outputs": [],
   "source": [
    "! pip install ibm_watson"
   ]
  },
  {
   "cell_type": "code",
   "execution_count": null,
   "metadata": {},
   "outputs": [],
   "source": [
    "import json\n",
    "from ibm_watson import ToneAnalyzerV3\n",
    "from ibm_cloud_sdk_core.authenticators import IAMAuthenticator\n",
    "\n",
    "authenticator = IAMAuthenticator('여러분의 Tone Analyzer apikey')\n",
    "tone_analyzer = ToneAnalyzerV3(\n",
    "    version='2017-09-21',\n",
    "    authenticator=authenticator\n",
    ")\n",
    "tone_analyzer.set_service_url('https://gateway.watsonplatform.net/tone-analyzer/api')"
   ]
  },
  {
   "cell_type": "code",
   "execution_count": null,
   "metadata": {},
   "outputs": [],
   "source": [
    "# Tone Analyzer 범용 엔드포인트는 짧은 이메일 메시지부터 긴 문서에 이르기까지, 기록된 컨텐츠의 어조를 분석합니다.\n",
    "# 범용 엔드포인트는 tone_analyzer.tone()을 사용합니다.\n",
    "text = 'I am happy'\n",
    "\n",
    "tone_analysis = tone_analyzer.tone(\n",
    "    {'text': text},\n",
    "    content_type='application/json'\n",
    ").get_result()\n",
    "print(json.dumps(tone_analysis, indent=2))"
   ]
  },
  {
   "cell_type": "code",
   "execution_count": null,
   "metadata": {},
   "outputs": [],
   "source": [
    "# Tone Analyzer 고객 참여 엔드포인트는 고객 서비스 및 지원 대화의 어조를 분석합니다.\n",
    "# 고객 참여  엔드포인트는 tone_analyzer.tone_chat()을 사용합니다.\n",
    "utterances = [\n",
    "\n",
    "   \n",
    "    {\n",
    "        \"text\": \"Well, nothing is working :(\",\n",
    "        \"user\": \"customer\"\n",
    "    },\n",
    "\n",
    "    {\n",
    "        \"text\": \"Sorry to hear that.\",\n",
    "        \"user\": \"agent\"\n",
    "    }\n",
    "    \n",
    "]\n",
    "utterance_analyses = tone_analyzer.tone_chat(utterances).get_result()\n",
    "print(json.dumps(utterance_analyses, indent=2))"
   ]
  }
 ],
 "metadata": {
  "kernelspec": {
   "display_name": "Python 3.6",
   "language": "python",
   "name": "python3"
  },
  "language_info": {
   "codemirror_mode": {
    "name": "ipython",
    "version": 3
   },
   "file_extension": ".py",
   "mimetype": "text/x-python",
   "name": "python",
   "nbconvert_exporter": "python",
   "pygments_lexer": "ipython3",
   "version": "3.6.9"
  }
 },
 "nbformat": 4,
 "nbformat_minor": 1
}
