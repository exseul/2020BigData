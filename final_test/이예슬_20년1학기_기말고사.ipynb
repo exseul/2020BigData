{
  "nbformat": 4,
  "nbformat_minor": 0,
  "metadata": {
    "colab": {
      "name": "20년1학기_기말고사.ipynb",
      "provenance": [],
      "collapsed_sections": []
    },
    "kernelspec": {
      "name": "python3",
      "display_name": "Python 3"
    }
  },
  "cells": [
    {
      "cell_type": "markdown",
      "metadata": {
        "id": "USdoQTkkAfiU",
        "colab_type": "text"
      },
      "source": [
        "# 2020년 1학기 기말시험"
      ]
    },
    {
      "cell_type": "markdown",
      "metadata": {
        "id": "Yg0l6Iz-NbQX",
        "colab_type": "text"
      },
      "source": [
        "# 이름 : 이예슬\n"
      ]
    },
    {
      "cell_type": "markdown",
      "metadata": {
        "id": "dde2pQdBKaXE",
        "colab_type": "text"
      },
      "source": [
        "https://colab.research.google.com/에 import하여 셀에 답을 적고 RUN하십시오. 출력한 결과에 따라 스코어링됩니다."
      ]
    },
    {
      "cell_type": "markdown",
      "metadata": {
        "id": "vytowRjHlN1F",
        "colab_type": "text"
      },
      "source": [
        "Q1. CNN 신경망에서 2D 컨볼루션 레이어를 거친 행렬의 값을 파이썬 array형태로 적으시오. 계산을 위해 계산기앱 또는 액셀을 사용해도 좋습니다.\n"
      ]
    },
    {
      "cell_type": "code",
      "metadata": {
        "id": "vO3cm719mB64",
        "colab_type": "code",
        "outputId": "d2c8ce5b-9b9a-42ea-a997-9890e05632c5",
        "colab": {
          "base_uri": "https://localhost:8080/",
          "height": 52
        }
      },
      "source": [
        "\"\"\" 문제\n",
        "x = [[1,2,3],\n",
        "     [4,5,6],\n",
        "     [7,8,9]]\n",
        "     \n",
        "kernel W =[[0,1],\n",
        "          [1,0]]\n",
        "\n",
        "Padding = VALID\n",
        "\n",
        "convolution을 한 결과를 행렬 y로 하여 print(y)로 출력하시오.\n",
        "\"\"\"\n",
        "x = [[1,2,3],\n",
        "     [4,5,6],\n",
        "     [7,8,9]]\n",
        "     \n",
        "W =[[0,1],\n",
        "    [1,0]]\n",
        "import numpy as np\n",
        "y = np.array([[6,8],[12,14]]) # 여러분의 answer를 파이썬 어레이로 적고 Run하시오.\n",
        "print(y)"
      ],
      "execution_count": 16,
      "outputs": [
        {
          "output_type": "stream",
          "text": [
            "[[ 6  8]\n",
            " [12 14]]\n"
          ],
          "name": "stdout"
        }
      ]
    },
    {
      "cell_type": "markdown",
      "metadata": {
        "id": "ntyM0f5Rgq5t",
        "colab_type": "text"
      },
      "source": [
        "Q2, 아래의 Confusion Matrix를 보고 질문에 답하시오"
      ]
    },
    {
      "cell_type": "code",
      "metadata": {
        "id": "cjqJY4QkYg55",
        "colab_type": "code",
        "outputId": "f5cd8ed7-2bea-4dc8-ae0c-baf15a27b8fd",
        "colab": {
          "base_uri": "https://localhost:8080/",
          "height": 314
        }
      },
      "source": [
        "# 문제 : 아래의 혼동행렬을 보고 TPR과 FNR을 계산하시오. 단 계산하는 공식을 파이썬으로 코딩하여 값을 구하시오.\n",
        "# 혼동행렬의 row는 실제값, column은 예측값, (1,1)이 True & Positive\n",
        "# 정의 : TPR = True Postive rate, FNR = False Negative rate\n",
        "import seaborn as sn\n",
        "import pandas as pd\n",
        "import matplotlib.pyplot as plt\n",
        "import numpy as np\n",
        "\n",
        "array = np.array([[850,6],\n",
        "                  [50,94]])         \n",
        "\n",
        "sn.set(font_scale=2.0) # for label size\n",
        "sn.heatmap(array, annot=True, annot_kws={\"size\": 18}, fmt='d') # font size\n",
        "\n",
        "plt.show()"
      ],
      "execution_count": 2,
      "outputs": [
        {
          "output_type": "stream",
          "text": [
            "/usr/local/lib/python3.6/dist-packages/statsmodels/tools/_testing.py:19: FutureWarning: pandas.util.testing is deprecated. Use the functions in the public API at pandas.testing instead.\n",
            "  import pandas.util.testing as tm\n"
          ],
          "name": "stderr"
        },
        {
          "output_type": "display_data",
          "data": {
            "image/png": "[encoded data removed]",
            "text/plain": [
              "<Figure size 432x288 with 2 Axes>"
            ]
          },
          "metadata": {
            "tags": []
          }
        }
      ]
    },
    {
      "cell_type": "code",
      "metadata": {
        "id": "1cwqB8OwUa36",
        "colab_type": "code",
        "outputId": "91ce34f5-7288-47d0-f845-cd2c5bb85a92",
        "colab": {
          "base_uri": "https://localhost:8080/",
          "height": 34
        }
      },
      "source": [
        "# Q2.1 TPR=?  아래에 계산식을 쓰고 Run 시키시오\n",
        "# 여러분의 코드 \n",
        "array = np.array(array)\n",
        "tpr=array[0,0]/(array[0,0]+array[1,0])\n",
        "print('TPR값은 ', tpr)"
      ],
      "execution_count": 3,
      "outputs": [
        {
          "output_type": "stream",
          "text": [
            "TPR값은  0.9444444444444444\n"
          ],
          "name": "stdout"
        }
      ]
    },
    {
      "cell_type": "code",
      "metadata": {
        "id": "BzOe-Zgqkgdc",
        "colab_type": "code",
        "outputId": "a1eed46f-ea7f-4231-baa5-2ba6836ab540",
        "colab": {
          "base_uri": "https://localhost:8080/",
          "height": 34
        }
      },
      "source": [
        "# Q2.2 FNR 계산을 위한 코드를 쓰고  Run하시오\n",
        "# 여러분의 코드 \n",
        "array = np.array(array)\n",
        "fnr=array[1,0]/(array[0,0]+array[1,0])\n",
        "print('FNR값은 :', fnr)"
      ],
      "execution_count": 4,
      "outputs": [
        {
          "output_type": "stream",
          "text": [
            "FNR값은 : 0.05555555555555555\n"
          ],
          "name": "stdout"
        }
      ]
    },
    {
      "cell_type": "code",
      "metadata": {
        "id": "TK_zjLxMEiVM",
        "colab_type": "code",
        "outputId": "53e5c147-606c-4ae6-ec54-6f585c3dfac5",
        "colab": {
          "base_uri": "https://localhost:8080/",
          "height": 34
        }
      },
      "source": [
        "#  Q2.3 accurary 계산을 위한 코드를 쓰고  Run하시오\n",
        "# 여러분의 코드\n",
        "array=np.array(array)\n",
        "acc=(array[0,0]+array[1,1])/(array[0,1]+array[1,1]+array[0,0]+array[1,0])\n",
        "print('ACC값은 : ',acc)"
      ],
      "execution_count": 5,
      "outputs": [
        {
          "output_type": "stream",
          "text": [
            "ACC값은 :  0.944\n"
          ],
          "name": "stdout"
        }
      ]
    },
    {
      "cell_type": "markdown",
      "metadata": {
        "id": "yukDPytdDmt7",
        "colab_type": "text"
      },
      "source": [
        "\n",
        "Q3. 다음 신경망 다이어그램을 보고 이를 구현하기 위한 파이썬 코드를 완성하시오"
      ]
    },
    {
      "cell_type": "code",
      "metadata": {
        "id": "dbbSoyMeINdZ",
        "colab_type": "code",
        "outputId": "b17d6cbd-2f58-4281-ca10-0e8c905ce9d3",
        "colab": {
          "base_uri": "https://localhost:8080/",
          "height": 548
        }
      },
      "source": [
        "! wget --no-check-certificate 'https://docs.google.com/uc?export=download&id=1jGQthuWngRlgUq7masWosTq1LyzwUAS7' -O 퍼셉트론.png\n",
        "from IPython.display import Image\n",
        "Image(\"퍼셉트론.png\", width=500)  "
      ],
      "execution_count": 6,
      "outputs": [
        {
          "output_type": "stream",
          "text": [
            "--2020-06-10 05:22:10--  https://docs.google.com/uc?export=download&id=1jGQthuWngRlgUq7masWosTq1LyzwUAS7\n",
            "Resolving docs.google.com (docs.google.com)... 172.253.123.139, 172.253.123.101, 172.253.123.100, ...\n",
            "Connecting to docs.google.com (docs.google.com)|172.253.123.139|:443... connected.\n",
            "HTTP request sent, awaiting response... 302 Moved Temporarily\n",
            "Location: https://doc-0s-1s-docs.googleusercontent.com/docs/securesc/ha0ro937gcuc7l7deffksulhg5h7mbp1/f4ualb3f1pnnqjkoi2jiuufo370tp2kn/1591766475000/04591858293269658552/*/1jGQthuWngRlgUq7masWosTq1LyzwUAS7?e=download [following]\n",
            "Warning: wildcards not supported in HTTP.\n",
            "--2020-06-10 05:22:10--  https://doc-0s-1s-docs.googleusercontent.com/docs/securesc/ha0ro937gcuc7l7deffksulhg5h7mbp1/f4ualb3f1pnnqjkoi2jiuufo370tp2kn/1591766475000/04591858293269658552/*/1jGQthuWngRlgUq7masWosTq1LyzwUAS7?e=download\n",
            "Resolving doc-0s-1s-docs.googleusercontent.com (doc-0s-1s-docs.googleusercontent.com)... 173.194.216.132, 2607:f8b0:400c:c12::84\n",
            "Connecting to doc-0s-1s-docs.googleusercontent.com (doc-0s-1s-docs.googleusercontent.com)|173.194.216.132|:443... connected.\n",
            "HTTP request sent, awaiting response... 200 OK\n",
            "Length: 18076 (18K) [image/png]\n",
            "Saving to: ‘퍼셉트론.png’\n",
            "\n",
            "\r퍼셉트론.png          0%[                    ]       0  --.-KB/s               \r퍼셉트론.png        100%[===================>]  17.65K  --.-KB/s    in 0s      \n",
            "\n",
            "2020-06-10 05:22:11 (48.0 MB/s) - ‘퍼셉트론.png’ saved [18076/18076]\n",
            "\n"
          ],
          "name": "stdout"
        },
        {
          "output_type": "execute_result",
          "data": {
            "image/png": "[encoded data removed]",
            "text/plain": [
              "<IPython.core.display.Image object>"
            ]
          },
          "metadata": {
            "tags": [],
            "image/png": {
              "width": 500
            }
          },
          "execution_count": 6
        }
      ]
    },
    {
      "cell_type": "code",
      "metadata": {
        "id": "wN6S1IvUt6jH",
        "colab_type": "code",
        "outputId": "e2f9e279-6a1d-43fe-bb36-8c06998bcbbf",
        "colab": {
          "base_uri": "https://localhost:8080/",
          "height": 222
        }
      },
      "source": [
        "#Q3. 위의 그림에 맞는 신경망을 코드로 설계하시오.\n",
        "import tensorflow.compat.v1 as tf\n",
        "tf.disable_v2_behavior() \n",
        "\n",
        "n = 500 # ?을 채우시오\n",
        "n_inputs = n  # ?을 채우시오\n",
        "n_hidden = n # ?을 채우시오 \n",
        "n_outputs = 2 # ?을 채우시오  \n",
        "X=tf.placeholder(tf.float64, shape=(None, n_inputs), name='X') # ?을 채우시오\n",
        "\"\"\"def make_nn_layer (input, output_size):\n",
        "  input_size = input.get_shape (). as_list () [1]\n",
        "  weights = tf.Variable (tf.truncated_normal (\n",
        "      [input_size, output_size],\n",
        "      stddev = 1.0/math.sqrt (float (input_size))))\n",
        "  biases = tf.Variable (tf.zeros ([output_size]))\n",
        "  return tf.matmul (input, weights) + biases\"\"\"\n",
        "with tf.name_scope('nn'):\n",
        "  hidden1 = make_nn_layer('hidden1', n_hidden, X, activation=tf.nn.relu) # ?을 채우시오\n",
        "  outputs = make_nn_layer('outputs', n_outputs, hidden1) # ?을 채우시오\n"
      ],
      "execution_count": 8,
      "outputs": [
        {
          "output_type": "error",
          "ename": "TypeError",
          "evalue": "ignored",
          "traceback": [
            "\u001b[0;31m---------------------------------------------------------------------------\u001b[0m",
            "\u001b[0;31mTypeError\u001b[0m                                 Traceback (most recent call last)",
            "\u001b[0;32m<ipython-input-8-ef6a3f472b17>\u001b[0m in \u001b[0;36m<module>\u001b[0;34m()\u001b[0m\n\u001b[1;32m     16\u001b[0m   return tf.matmul (input, weights) + biases\"\"\"\n\u001b[1;32m     17\u001b[0m \u001b[0;32mwith\u001b[0m \u001b[0mtf\u001b[0m\u001b[0;34m.\u001b[0m\u001b[0mname_scope\u001b[0m\u001b[0;34m(\u001b[0m\u001b[0;34m'nn'\u001b[0m\u001b[0;34m)\u001b[0m\u001b[0;34m:\u001b[0m\u001b[0;34m\u001b[0m\u001b[0;34m\u001b[0m\u001b[0m\n\u001b[0;32m---> 18\u001b[0;31m   \u001b[0mhidden1\u001b[0m \u001b[0;34m=\u001b[0m \u001b[0mmake_nn_layer\u001b[0m\u001b[0;34m(\u001b[0m\u001b[0;34m'hidden1'\u001b[0m\u001b[0;34m,\u001b[0m \u001b[0mn_hidden\u001b[0m\u001b[0;34m,\u001b[0m \u001b[0mX\u001b[0m\u001b[0;34m,\u001b[0m \u001b[0mactivation\u001b[0m\u001b[0;34m=\u001b[0m\u001b[0mtf\u001b[0m\u001b[0;34m.\u001b[0m\u001b[0mnn\u001b[0m\u001b[0;34m.\u001b[0m\u001b[0mrelu\u001b[0m\u001b[0;34m)\u001b[0m \u001b[0;31m# ?을 채우시오\u001b[0m\u001b[0;34m\u001b[0m\u001b[0;34m\u001b[0m\u001b[0m\n\u001b[0m\u001b[1;32m     19\u001b[0m   \u001b[0moutputs\u001b[0m \u001b[0;34m=\u001b[0m \u001b[0mmake_nn_layer\u001b[0m\u001b[0;34m(\u001b[0m\u001b[0;34m'outputs'\u001b[0m\u001b[0;34m,\u001b[0m \u001b[0mn_outputs\u001b[0m\u001b[0;34m,\u001b[0m \u001b[0mhidden1\u001b[0m\u001b[0;34m)\u001b[0m \u001b[0;31m# ?을 채우시오\u001b[0m\u001b[0;34m\u001b[0m\u001b[0;34m\u001b[0m\u001b[0m\n",
            "\u001b[0;31mTypeError\u001b[0m: make_nn_layer() got an unexpected keyword argument 'activation'"
          ]
        }
      ]
    },
    {
      "cell_type": "markdown",
      "metadata": {
        "id": "lZg0CU3IEoG-",
        "colab_type": "text"
      },
      "source": [
        "Q4. 아래의 표를 보고 Keras 코드를 완성하시오\n"
      ]
    },
    {
      "cell_type": "code",
      "metadata": {
        "id": "e78Ut02SEs6q",
        "colab_type": "code",
        "outputId": "ef971871-ac61-482d-8ac2-6e916335c519",
        "colab": {
          "base_uri": "https://localhost:8080/",
          "height": 54
        }
      },
      "source": [
        "#Q4 표\n",
        "\"\"\"\n",
        "Layer (type)                 Output Shape              Param #   \n",
        "=================================================================\n",
        "conv2d_6 (Conv2D)            (None, 24, 24, 32)        832       \n",
        "_________________________________________________________________\n",
        "max_pooling2d_5 (MaxPooling2 (None, 12, 12, 32)        0         \n",
        "_________________________________________________________________\n",
        "dropout_6 (Dropout)          (None, 12, 12, 32)        0         \n",
        "_________________________________________________________________\n",
        "conv2d_7 (Conv2D)            (None, 10, 10, 64)        18496     \n",
        "_________________________________________________________________\n",
        "max_pooling2d_6 (MaxPooling2 (None, 5, 5, 64)          0         \n",
        "_________________________________________________________________\n",
        "dropout_7 (Dropout)          (None, 5, 5, 64)          0         \n",
        "_________________________________________________________________\n",
        "conv2d_8 (Conv2D)            (None, 5, 5, 128)         8320      \n",
        "_________________________________________________________________\n",
        "max_pooling2d_7 (MaxPooling2 (None, 2, 2, 128)         0         \n",
        "_________________________________________________________________\n",
        "dropout_8 (Dropout)          (None, 2, 2, 128)         0         \n",
        "_________________________________________________________________\n",
        "flatten_3 (Flatten)          (None, 512)               0         \n",
        "_________________________________________________________________\n",
        "dense_5 (Dense)              (None, 128)               65664     \n",
        "_________________________________________________________________\n",
        "dense_6 (Dense)              (None, 10)                1290      \n",
        "=================================================================\n",
        "\n",
        "\"\"\""
      ],
      "execution_count": 9,
      "outputs": [
        {
          "output_type": "execute_result",
          "data": {
            "text/plain": [
              "'\\nLayer (type)                 Output Shape              Param #   \\n=================================================================\\nconv2d_6 (Conv2D)            (None, 24, 24, 32)        832       \\n_________________________________________________________________\\nmax_pooling2d_5 (MaxPooling2 (None, 12, 12, 32)        0         \\n_________________________________________________________________\\ndropout_6 (Dropout)          (None, 12, 12, 32)        0         \\n_________________________________________________________________\\nconv2d_7 (Conv2D)            (None, 10, 10, 64)        18496     \\n_________________________________________________________________\\nmax_pooling2d_6 (MaxPooling2 (None, 5, 5, 64)          0         \\n_________________________________________________________________\\ndropout_7 (Dropout)          (None, 5, 5, 64)          0         \\n_________________________________________________________________\\nconv2d_8 (Conv2D)            (None, 5, 5, 128)         8320      \\n_________________________________________________________________\\nmax_pooling2d_7 (MaxPooling2 (None, 2, 2, 128)         0         \\n_________________________________________________________________\\ndropout_8 (Dropout)          (None, 2, 2, 128)         0         \\n_________________________________________________________________\\nflatten_3 (Flatten)          (None, 512)               0         \\n_________________________________________________________________\\ndense_5 (Dense)              (None, 128)               65664     \\n_________________________________________________________________\\ndense_6 (Dense)              (None, 10)                1290      \\n=================================================================\\n\\n'"
            ]
          },
          "metadata": {
            "tags": []
          },
          "execution_count": 9
        }
      ]
    },
    {
      "cell_type": "code",
      "metadata": {
        "id": "c2RTLEClGqlC",
        "colab_type": "code",
        "outputId": "12f16e82-f699-459f-b35d-2a193ef1f73a",
        "colab": {
          "base_uri": "https://localhost:8080/",
          "height": 134
        }
      },
      "source": [
        "# Q4. 이곳에 위의 표에 맞는 딥러닝의 모델을 Keras로 코딩하십시오. 모델 부문만 작성하고 마지막에 print로 summary를 출력하십시오.\n",
        "# 가정 1 : input은 24 x 24의 흑백 이미지\n",
        "# 가정 2 : convolution layer에서 사용하는 activation function은 ReLU로 통일 \n",
        "# 가정 3 : maxpooling 시 pool_size는 2 x 2\n",
        "# 가정 4 : dropout rate는 0.5\n",
        "# 가정 5 : dense_5 layer에서 사용하는 activation function은 ReLU\n",
        "# 가정 6 : dense_6 layer에서 사용하는 activation function은 softmax\n",
        "import keras\n",
        "import tensorflow as tf\n",
        "from keras.models import Sequential\n",
        "from keras.layers import Dense, Dropout, Flatten\n",
        "from keras.layers import Conv2D, MaxPooling2D\n",
        "from keras import backend as K\n",
        "\n",
        "def createModel():\n",
        "  mymodel = Sequential()\n",
        "  mymodel.add(Dense(512, activation='relu')) \n",
        "  mymodel.add(Dense(nClasses, activation='softmax'))\n",
        "  model.add(Conv2D(32, (3, 3), activation='relu'))\n",
        "  mymodel.add(MaxPooling2D(pool_size=(2, 2))\n",
        "  tf.nn.dropout(hiddenLayer, p=0.5)\n",
        "  mymodel.add(Dense(512, activation='relu'))\n",
        "  model.add(Dense(nClasses, activation='softmax'))\n",
        "\n",
        "print(mymodel.summary())\n",
        "# The End"
      ],
      "execution_count": 13,
      "outputs": [
        {
          "output_type": "error",
          "ename": "SyntaxError",
          "evalue": "ignored",
          "traceback": [
            "\u001b[0;36m  File \u001b[0;32m\"<ipython-input-13-e20ea4cd8e8a>\"\u001b[0;36m, line \u001b[0;32m21\u001b[0m\n\u001b[0;31m    tf.nn.dropout(hiddenLayer, p=0.5)\u001b[0m\n\u001b[0m     ^\u001b[0m\n\u001b[0;31mSyntaxError\u001b[0m\u001b[0;31m:\u001b[0m invalid syntax\n"
          ]
        }
      ]
    },
    {
      "cell_type": "markdown",
      "metadata": {
        "id": "k6z0l1F6d_SU",
        "colab_type": "text"
      },
      "source": [
        "Q5. 아래  코드가 출력하는 그래프에서 validation loss 값이 모든 epoch 구간에서 training loss 값보다 작도록  코드를 수정하시오. 현재의 그래프는 최적 상태가 아닙니다."
      ]
    },
    {
      "cell_type": "code",
      "metadata": {
        "id": "_3uvk7IVeIZs",
        "colab_type": "code",
        "colab": {
          "base_uri": "https://localhost:8080/",
          "height": 1000
        },
        "outputId": "b5851407-0251-4aea-a789-393eddef1842"
      },
      "source": [
        "from keras.datasets import mnist\n",
        "from matplotlib import pyplot as plt\n",
        "plt.style.use('dark_background')\n",
        "from keras.models import Sequential\n",
        "from keras.layers import Dense, Flatten, Activation, Dropout\n",
        "from keras.utils import normalize, to_categorical\n",
        "\n",
        "(X_train, y_train), (X_test, y_test) = mnist.load_data()\n",
        "\n",
        "plt.imshow(X_train[0], cmap = plt.cm.binary)\n",
        "plt.show()\n",
        "\n",
        "X_train = normalize(X_train, axis=1)\n",
        "X_test = normalize(X_test, axis=1)\n",
        "y_train = to_categorical(y_train)\n",
        "y_test = to_categorical(y_test)\n",
        "\n",
        "model = Sequential()\n",
        "model.add(Flatten(input_shape=(28, 28)))\n",
        "model.add(Dense(128))\n",
        "model.add(Activation('relu'))\n",
        "model.add(Dropout(0.25))\n",
        "model.add(Dense(128))\n",
        "model.add(Activation('relu'))\n",
        "model.add(Dropout(0.5))\n",
        "model.add(Dense(10))\n",
        "model.add(Activation('softmax'))\n",
        "model.summary()\n",
        "\n",
        "model.compile(\n",
        "    loss='categorical_crossentropy',\n",
        "    optimizer='adam',\n",
        "    metrics=['accuracy']\n",
        ")\n",
        "history = model.fit(\n",
        "    X_train,\n",
        "    y_train,\n",
        "    epochs=10,\n",
        "    batch_size=32,\n",
        "    validation_split=0.1,\n",
        "    verbose = 1,\n",
        "    shuffle=True\n",
        ")\n",
        "\n",
        "loss = history.history['loss']\n",
        "val_loss = history.history['val_loss']\n",
        "epochs = range(1, len(loss) + 1)\n",
        "plt.plot(epochs, loss, 'y', label='Training loss')\n",
        "plt.plot(epochs, val_loss, 'r', label='Validation loss')\n",
        "plt.title('Training and validation loss')\n",
        "plt.xlabel('Epochs')\n",
        "plt.ylabel('Loss')\n",
        "plt.legend()\n",
        "plt.show()"
      ],
      "execution_count": 11,
      "outputs": [
        {
          "output_type": "display_data",
          "data": {
            "image/png": "[encoded data removed]",
            "text/plain": [
              "<Figure size 432x288 with 1 Axes>"
            ]
          },
          "metadata": {
            "tags": []
          }
        },
        {
          "output_type": "stream",
          "text": [
            "WARNING:tensorflow:From /usr/local/lib/python3.6/dist-packages/tensorflow/python/ops/resource_variable_ops.py:1666: calling BaseResourceVariable.__init__ (from tensorflow.python.ops.resource_variable_ops) with constraint is deprecated and will be removed in a future version.\n",
            "Instructions for updating:\n",
            "If using Keras pass *_constraint arguments to layers.\n",
            "Model: \"sequential_1\"\n",
            "_________________________________________________________________\n",
            "Layer (type)                 Output Shape              Param #   \n",
            "=================================================================\n",
            "flatten_1 (Flatten)          (None, 784)               0         \n",
            "_________________________________________________________________\n",
            "dense_1 (Dense)              (None, 128)               100480    \n",
            "_________________________________________________________________\n",
            "activation_1 (Activation)    (None, 128)               0         \n",
            "_________________________________________________________________\n",
            "dropout_1 (Dropout)          (None, 128)               0         \n",
            "_________________________________________________________________\n",
            "dense_2 (Dense)              (None, 128)               16512     \n",
            "_________________________________________________________________\n",
            "activation_2 (Activation)    (None, 128)               0         \n",
            "_________________________________________________________________\n",
            "dropout_2 (Dropout)          (None, 128)               0         \n",
            "_________________________________________________________________\n",
            "dense_3 (Dense)              (None, 10)                1290      \n",
            "_________________________________________________________________\n",
            "activation_3 (Activation)    (None, 10)                0         \n",
            "=================================================================\n",
            "Total params: 118,282\n",
            "Trainable params: 118,282\n",
            "Non-trainable params: 0\n",
            "_________________________________________________________________\n",
            "Train on 54000 samples, validate on 6000 samples\n",
            "Epoch 1/10\n",
            "54000/54000 [==============================] - 7s 124us/step - loss: 0.4311 - accuracy: 0.8686 - val_loss: 0.1360 - val_accuracy: 0.9627\n",
            "Epoch 2/10\n",
            "54000/54000 [==============================] - 6s 117us/step - loss: 0.2036 - accuracy: 0.9408 - val_loss: 0.1045 - val_accuracy: 0.9700\n",
            "Epoch 3/10\n",
            "54000/54000 [==============================] - 6s 115us/step - loss: 0.1590 - accuracy: 0.9530 - val_loss: 0.0888 - val_accuracy: 0.9742\n",
            "Epoch 4/10\n",
            "54000/54000 [==============================] - 6s 118us/step - loss: 0.1321 - accuracy: 0.9603 - val_loss: 0.0841 - val_accuracy: 0.9757\n",
            "Epoch 5/10\n",
            "54000/54000 [==============================] - 6s 118us/step - loss: 0.1144 - accuracy: 0.9661 - val_loss: 0.0891 - val_accuracy: 0.9753\n",
            "Epoch 6/10\n",
            "54000/54000 [==============================] - 6s 117us/step - loss: 0.1064 - accuracy: 0.9682 - val_loss: 0.0761 - val_accuracy: 0.9787\n",
            "Epoch 7/10\n",
            "54000/54000 [==============================] - 6s 118us/step - loss: 0.0933 - accuracy: 0.9712 - val_loss: 0.0818 - val_accuracy: 0.9792\n",
            "Epoch 8/10\n",
            "54000/54000 [==============================] - 6s 119us/step - loss: 0.0901 - accuracy: 0.9723 - val_loss: 0.0760 - val_accuracy: 0.9797\n",
            "Epoch 9/10\n",
            "54000/54000 [==============================] - 6s 116us/step - loss: 0.0814 - accuracy: 0.9758 - val_loss: 0.0765 - val_accuracy: 0.9788\n",
            "Epoch 10/10\n",
            "54000/54000 [==============================] - 6s 118us/step - loss: 0.0776 - accuracy: 0.9759 - val_loss: 0.0741 - val_accuracy: 0.9788\n"
          ],
          "name": "stdout"
        },
        {
          "output_type": "display_data",
          "data": {
            "image/png": "[encoded data removed]",
            "text/plain": [
              "<Figure size 432x288 with 1 Axes>"
            ]
          },
          "metadata": {
            "tags": []
          }
        }
      ]
    },
    {
      "cell_type": "markdown",
      "metadata": {
        "id": "o176gKn3yL-O",
        "colab_type": "text"
      },
      "source": [
        "Q6. Mini-batch size & Learning Rate 튜닝"
      ]
    },
    {
      "cell_type": "code",
      "metadata": {
        "id": "achHRPhwHPF3",
        "colab_type": "code",
        "colab": {
          "base_uri": "https://localhost:8080/",
          "height": 1000
        },
        "outputId": "666f21e1-23f5-4a9d-f3ed-e8ef12ffd638"
      },
      "source": [
        "# mlp for the blobs problem with minibatch gradient descent with varied batch size\n",
        "# 아래의 코드에서 다음 두 개의 파라미터를 조합하여 최고의 모델링 성능을 내고 그 결과를 print()로 출력하십시오.\n",
        "# 튜닝할 파라미터 : batch_size & lr (각각 3가지의 옵션이 있으므로 두 파라미터를 조합할 수 있는 경우의 수는 모두 9가지)\n",
        "# 모델의 성능 평가 기준은 다음의 우선순위에 따라 결정하시오. \n",
        "# 1. Validation Loss가 최소, 2. Accuracy는 최고값에 가까울 것\n",
        "# 9번의 실험 후 최적이라고 생각되는 파라미터 값을 코드에 지정하고 셀을 다시 run하여 최종 결과를 출력하시오.\n",
        "%%time\n",
        "from sklearn.datasets import make_blobs\n",
        "from keras.layers import Dense\n",
        "from keras.models import Sequential\n",
        "from keras.optimizers import SGD\n",
        "from keras.utils import to_categorical\n",
        "from matplotlib import pyplot\n",
        "\n",
        "# prepare train and test dataset\n",
        "def prepare_data():\n",
        "\t# generate 2d classification dataset\n",
        "\tX, y = make_blobs(n_samples=1000, centers=3, n_features=2, cluster_std=2, random_state=2)\n",
        "\t# one hot encode output variable\n",
        "\ty = to_categorical(y)\n",
        "\t# split into train and test\n",
        "\tn_train = 500\n",
        "\ttrainX, testX = X[:n_train, :], X[n_train:, :]\n",
        "\ttrainy, testy = y[:n_train], y[n_train:]\n",
        "\treturn trainX, trainy, testX, testy\n",
        "\n",
        "# fit a model and plot learning curve\n",
        "def fit_model(trainX, trainy, testX, testy, n_batch):\n",
        "\t\n",
        "  # define model\n",
        "\tmodel = Sequential()\n",
        "\tmodel.add(Dense(50, input_dim=2, activation='relu', kernel_initializer='he_uniform'))\n",
        "\tmodel.add(Dense(3, activation='softmax'))\n",
        "\t\n",
        "  # lr의 값을  0.1, 0.01, 0.001 중에서 선택하여 이곳에 지정\n",
        "\topt = SGD(lr=0.001, momentum=0.9) \n",
        "\tmodel.compile(loss='categorical_crossentropy', optimizer=opt, metrics=['accuracy'])\n",
        "\t# fit model\n",
        "\thistory = model.fit(trainX, trainy, validation_data=(testX, testy), epochs=150, verbose=2, batch_size=n_batch)\n",
        "\tprint('accuracy = ', format(history.history['accuracy'][149],\".3f\"), ' ', 'validation loss = ', format(history.history['val_loss'][149],\".3f\"))\n",
        "  # plot learning curves\n",
        "\tpyplot.plot(history.history['accuracy'], label='train')\n",
        "\tpyplot.plot(history.history['val_loss'], label='test')\n",
        "\tpyplot.title('batch='+str(n_batch), pad=-40)\n",
        "\n",
        "\n",
        "\n",
        "# prepare dataset\n",
        "trainX, trainy, testX, testy = prepare_data()\n",
        "\n",
        "# batch_size의 값을   16, 32, 64 중에서 선택하여 이곳에 지정\n",
        "batch_size = 16\n",
        "\n",
        "fit_model(trainX, trainy, testX, testy, batch_size)\n",
        "# show learning curves\n",
        "pyplot.show()\n",
        "\n",
        "# 결과를 메모장에 적어놓고 lr과 batch_size를 바꿔가며 최적의 파라미터를 찾아가시오.\n",
        "# 최적의 lr과 batch_size를 선택하여 위의 코드에 적고 Run한 결과룰 출력하여 제출하시오. "
      ],
      "execution_count": 14,
      "outputs": [
        {
          "output_type": "stream",
          "text": [
            "Train on 500 samples, validate on 500 samples\n",
            "Epoch 1/150\n",
            " - 0s - loss: 1.1759 - accuracy: 0.4380 - val_loss: 0.9190 - val_accuracy: 0.5380\n",
            "Epoch 2/150\n",
            " - 0s - loss: 0.8261 - accuracy: 0.5680 - val_loss: 0.9916 - val_accuracy: 0.5760\n",
            "Epoch 3/150\n",
            " - 0s - loss: 0.8355 - accuracy: 0.5740 - val_loss: 0.6521 - val_accuracy: 0.7300\n",
            "Epoch 4/150\n",
            " - 0s - loss: 0.7010 - accuracy: 0.6600 - val_loss: 0.6900 - val_accuracy: 0.6720\n",
            "Epoch 5/150\n",
            " - 0s - loss: 0.7198 - accuracy: 0.6560 - val_loss: 0.6443 - val_accuracy: 0.7480\n",
            "Epoch 6/150\n",
            " - 0s - loss: 0.6634 - accuracy: 0.6720 - val_loss: 0.6057 - val_accuracy: 0.7220\n",
            "Epoch 7/150\n",
            " - 0s - loss: 0.6467 - accuracy: 0.6760 - val_loss: 0.6005 - val_accuracy: 0.7240\n",
            "Epoch 8/150\n",
            " - 0s - loss: 0.6546 - accuracy: 0.6740 - val_loss: 0.5969 - val_accuracy: 0.7480\n",
            "Epoch 9/150\n",
            " - 0s - loss: 0.7212 - accuracy: 0.6680 - val_loss: 0.6170 - val_accuracy: 0.7360\n",
            "Epoch 10/150\n",
            " - 0s - loss: 0.6383 - accuracy: 0.7120 - val_loss: 0.5876 - val_accuracy: 0.7540\n",
            "Epoch 11/150\n",
            " - 0s - loss: 0.7002 - accuracy: 0.6420 - val_loss: 0.6873 - val_accuracy: 0.7760\n",
            "Epoch 12/150\n",
            " - 0s - loss: 0.6321 - accuracy: 0.7060 - val_loss: 0.5711 - val_accuracy: 0.7400\n",
            "Epoch 13/150\n",
            " - 0s - loss: 0.6390 - accuracy: 0.6960 - val_loss: 0.5671 - val_accuracy: 0.7720\n",
            "Epoch 14/150\n",
            " - 0s - loss: 0.6248 - accuracy: 0.7100 - val_loss: 0.6526 - val_accuracy: 0.6880\n",
            "Epoch 15/150\n",
            " - 0s - loss: 0.6161 - accuracy: 0.7140 - val_loss: 0.5676 - val_accuracy: 0.7260\n",
            "Epoch 16/150\n",
            " - 0s - loss: 0.6218 - accuracy: 0.7220 - val_loss: 0.5546 - val_accuracy: 0.7500\n",
            "Epoch 17/150\n",
            " - 0s - loss: 0.6095 - accuracy: 0.7220 - val_loss: 0.5433 - val_accuracy: 0.7700\n",
            "Epoch 18/150\n",
            " - 0s - loss: 0.5911 - accuracy: 0.7360 - val_loss: 0.6292 - val_accuracy: 0.7940\n",
            "Epoch 19/150\n",
            " - 0s - loss: 0.5918 - accuracy: 0.7260 - val_loss: 0.5571 - val_accuracy: 0.8060\n",
            "Epoch 20/150\n",
            " - 0s - loss: 0.6133 - accuracy: 0.7240 - val_loss: 0.5301 - val_accuracy: 0.7860\n",
            "Epoch 21/150\n",
            " - 0s - loss: 0.5953 - accuracy: 0.7340 - val_loss: 0.5988 - val_accuracy: 0.7920\n",
            "Epoch 22/150\n",
            " - 0s - loss: 0.5884 - accuracy: 0.7440 - val_loss: 0.5336 - val_accuracy: 0.7840\n",
            "Epoch 23/150\n",
            " - 0s - loss: 0.6097 - accuracy: 0.7220 - val_loss: 0.6175 - val_accuracy: 0.7760\n",
            "Epoch 24/150\n",
            " - 0s - loss: 0.5865 - accuracy: 0.7540 - val_loss: 0.5340 - val_accuracy: 0.8180\n",
            "Epoch 25/150\n",
            " - 0s - loss: 0.5799 - accuracy: 0.7660 - val_loss: 0.5222 - val_accuracy: 0.8100\n",
            "Epoch 26/150\n",
            " - 0s - loss: 0.6037 - accuracy: 0.7200 - val_loss: 0.6355 - val_accuracy: 0.7260\n",
            "Epoch 27/150\n",
            " - 0s - loss: 0.6902 - accuracy: 0.6900 - val_loss: 0.5311 - val_accuracy: 0.8220\n",
            "Epoch 28/150\n",
            " - 0s - loss: 0.5669 - accuracy: 0.7620 - val_loss: 0.5662 - val_accuracy: 0.7460\n",
            "Epoch 29/150\n",
            " - 0s - loss: 0.5619 - accuracy: 0.7540 - val_loss: 0.5228 - val_accuracy: 0.7640\n",
            "Epoch 30/150\n",
            " - 0s - loss: 0.5338 - accuracy: 0.7620 - val_loss: 0.5303 - val_accuracy: 0.8220\n",
            "Epoch 31/150\n",
            " - 0s - loss: 0.5324 - accuracy: 0.7640 - val_loss: 0.5177 - val_accuracy: 0.7640\n",
            "Epoch 32/150\n",
            " - 0s - loss: 0.5427 - accuracy: 0.7780 - val_loss: 0.5117 - val_accuracy: 0.8120\n",
            "Epoch 33/150\n",
            " - 0s - loss: 0.5526 - accuracy: 0.7360 - val_loss: 0.5089 - val_accuracy: 0.8180\n",
            "Epoch 34/150\n",
            " - 0s - loss: 0.5227 - accuracy: 0.7900 - val_loss: 0.5013 - val_accuracy: 0.7860\n",
            "Epoch 35/150\n",
            " - 0s - loss: 0.5589 - accuracy: 0.7400 - val_loss: 0.4815 - val_accuracy: 0.8120\n",
            "Epoch 36/150\n",
            " - 0s - loss: 0.5291 - accuracy: 0.7780 - val_loss: 0.6304 - val_accuracy: 0.7120\n",
            "Epoch 37/150\n",
            " - 0s - loss: 0.5464 - accuracy: 0.7580 - val_loss: 0.5496 - val_accuracy: 0.7500\n",
            "Epoch 38/150\n",
            " - 0s - loss: 0.5408 - accuracy: 0.7560 - val_loss: 0.5918 - val_accuracy: 0.7360\n",
            "Epoch 39/150\n",
            " - 0s - loss: 0.5324 - accuracy: 0.7780 - val_loss: 0.4721 - val_accuracy: 0.8200\n",
            "Epoch 40/150\n",
            " - 0s - loss: 0.5491 - accuracy: 0.7560 - val_loss: 0.4896 - val_accuracy: 0.8260\n",
            "Epoch 41/150\n",
            " - 0s - loss: 0.5329 - accuracy: 0.7720 - val_loss: 0.4715 - val_accuracy: 0.8060\n",
            "Epoch 42/150\n",
            " - 0s - loss: 0.5233 - accuracy: 0.7820 - val_loss: 0.4748 - val_accuracy: 0.8160\n",
            "Epoch 43/150\n",
            " - 0s - loss: 0.5121 - accuracy: 0.7900 - val_loss: 0.4744 - val_accuracy: 0.8000\n",
            "Epoch 44/150\n",
            " - 0s - loss: 0.5027 - accuracy: 0.7700 - val_loss: 0.4812 - val_accuracy: 0.7980\n",
            "Epoch 45/150\n",
            " - 0s - loss: 0.5179 - accuracy: 0.7720 - val_loss: 0.9822 - val_accuracy: 0.5220\n",
            "Epoch 46/150\n",
            " - 0s - loss: 0.6439 - accuracy: 0.7260 - val_loss: 0.7878 - val_accuracy: 0.5880\n",
            "Epoch 47/150\n",
            " - 0s - loss: 0.5888 - accuracy: 0.7140 - val_loss: 0.5792 - val_accuracy: 0.7480\n",
            "Epoch 48/150\n",
            " - 0s - loss: 0.4904 - accuracy: 0.7820 - val_loss: 0.5026 - val_accuracy: 0.8180\n",
            "Epoch 49/150\n",
            " - 0s - loss: 0.5072 - accuracy: 0.7820 - val_loss: 0.5409 - val_accuracy: 0.7840\n",
            "Epoch 50/150\n",
            " - 0s - loss: 0.5507 - accuracy: 0.7640 - val_loss: 0.4672 - val_accuracy: 0.8300\n",
            "Epoch 51/150\n",
            " - 0s - loss: 0.4949 - accuracy: 0.7740 - val_loss: 0.4485 - val_accuracy: 0.8260\n",
            "Epoch 52/150\n",
            " - 0s - loss: 0.5285 - accuracy: 0.7680 - val_loss: 0.4473 - val_accuracy: 0.8180\n",
            "Epoch 53/150\n",
            " - 0s - loss: 0.4837 - accuracy: 0.7900 - val_loss: 0.4508 - val_accuracy: 0.8340\n",
            "Epoch 54/150\n",
            " - 0s - loss: 0.4708 - accuracy: 0.7820 - val_loss: 0.4444 - val_accuracy: 0.8180\n",
            "Epoch 55/150\n",
            " - 0s - loss: 0.5084 - accuracy: 0.7880 - val_loss: 0.4718 - val_accuracy: 0.8160\n",
            "Epoch 56/150\n",
            " - 0s - loss: 0.4634 - accuracy: 0.8020 - val_loss: 0.4413 - val_accuracy: 0.8200\n",
            "Epoch 57/150\n",
            " - 0s - loss: 0.4671 - accuracy: 0.8060 - val_loss: 0.4461 - val_accuracy: 0.8240\n",
            "Epoch 58/150\n",
            " - 0s - loss: 0.4832 - accuracy: 0.7980 - val_loss: 0.4478 - val_accuracy: 0.8300\n",
            "Epoch 59/150\n",
            " - 0s - loss: 0.4657 - accuracy: 0.8040 - val_loss: 0.4358 - val_accuracy: 0.8360\n",
            "Epoch 60/150\n",
            " - 0s - loss: 0.4729 - accuracy: 0.8120 - val_loss: 0.4373 - val_accuracy: 0.8220\n",
            "Epoch 61/150\n",
            " - 0s - loss: 0.4665 - accuracy: 0.8000 - val_loss: 0.4411 - val_accuracy: 0.8320\n",
            "Epoch 62/150\n",
            " - 0s - loss: 0.4608 - accuracy: 0.8000 - val_loss: 0.4482 - val_accuracy: 0.8320\n",
            "Epoch 63/150\n",
            " - 0s - loss: 0.4863 - accuracy: 0.7840 - val_loss: 0.4537 - val_accuracy: 0.8280\n",
            "Epoch 64/150\n",
            " - 0s - loss: 0.4702 - accuracy: 0.7960 - val_loss: 0.4436 - val_accuracy: 0.8240\n",
            "Epoch 65/150\n",
            " - 0s - loss: 0.4612 - accuracy: 0.8000 - val_loss: 0.4397 - val_accuracy: 0.8320\n",
            "Epoch 66/150\n",
            " - 0s - loss: 0.4889 - accuracy: 0.7800 - val_loss: 0.4319 - val_accuracy: 0.8200\n",
            "Epoch 67/150\n",
            " - 0s - loss: 0.4513 - accuracy: 0.8180 - val_loss: 0.4645 - val_accuracy: 0.8160\n",
            "Epoch 68/150\n",
            " - 0s - loss: 0.4826 - accuracy: 0.7940 - val_loss: 0.4468 - val_accuracy: 0.8140\n",
            "Epoch 69/150\n",
            " - 0s - loss: 0.4579 - accuracy: 0.7960 - val_loss: 0.4252 - val_accuracy: 0.8340\n",
            "Epoch 70/150\n",
            " - 0s - loss: 0.4541 - accuracy: 0.8120 - val_loss: 0.4588 - val_accuracy: 0.8180\n",
            "Epoch 71/150\n",
            " - 0s - loss: 0.4660 - accuracy: 0.7980 - val_loss: 0.4707 - val_accuracy: 0.8120\n",
            "Epoch 72/150\n",
            " - 0s - loss: 0.4551 - accuracy: 0.8140 - val_loss: 0.4482 - val_accuracy: 0.8100\n",
            "Epoch 73/150\n",
            " - 0s - loss: 0.4776 - accuracy: 0.8100 - val_loss: 0.4379 - val_accuracy: 0.8120\n",
            "Epoch 74/150\n",
            " - 0s - loss: 0.4527 - accuracy: 0.8180 - val_loss: 0.4670 - val_accuracy: 0.8100\n",
            "Epoch 75/150\n",
            " - 0s - loss: 0.5268 - accuracy: 0.7820 - val_loss: 0.4719 - val_accuracy: 0.8200\n",
            "Epoch 76/150\n",
            " - 0s - loss: 0.4679 - accuracy: 0.7840 - val_loss: 0.5293 - val_accuracy: 0.7780\n",
            "Epoch 77/150\n",
            " - 0s - loss: 0.4439 - accuracy: 0.8120 - val_loss: 0.4171 - val_accuracy: 0.8300\n",
            "Epoch 78/150\n",
            " - 0s - loss: 0.4348 - accuracy: 0.8220 - val_loss: 0.4321 - val_accuracy: 0.8220\n",
            "Epoch 79/150\n",
            " - 0s - loss: 0.4446 - accuracy: 0.8180 - val_loss: 0.4256 - val_accuracy: 0.8320\n",
            "Epoch 80/150\n",
            " - 0s - loss: 0.4564 - accuracy: 0.8140 - val_loss: 0.4664 - val_accuracy: 0.8220\n",
            "Epoch 81/150\n",
            " - 0s - loss: 0.4483 - accuracy: 0.8140 - val_loss: 0.4273 - val_accuracy: 0.8280\n",
            "Epoch 82/150\n",
            " - 0s - loss: 0.4633 - accuracy: 0.8020 - val_loss: 0.4434 - val_accuracy: 0.8300\n",
            "Epoch 83/150\n",
            " - 0s - loss: 0.4402 - accuracy: 0.8240 - val_loss: 0.4283 - val_accuracy: 0.8300\n",
            "Epoch 84/150\n",
            " - 0s - loss: 0.4383 - accuracy: 0.8180 - val_loss: 0.4649 - val_accuracy: 0.8120\n",
            "Epoch 85/150\n",
            " - 0s - loss: 0.4393 - accuracy: 0.8040 - val_loss: 0.4486 - val_accuracy: 0.8240\n",
            "Epoch 86/150\n",
            " - 0s - loss: 0.4434 - accuracy: 0.8060 - val_loss: 0.4592 - val_accuracy: 0.8220\n",
            "Epoch 87/150\n",
            " - 0s - loss: 0.4464 - accuracy: 0.7920 - val_loss: 0.4235 - val_accuracy: 0.8300\n",
            "Epoch 88/150\n",
            " - 0s - loss: 0.4331 - accuracy: 0.8280 - val_loss: 0.4306 - val_accuracy: 0.8300\n",
            "Epoch 89/150\n",
            " - 0s - loss: 0.4413 - accuracy: 0.8180 - val_loss: 0.4282 - val_accuracy: 0.8120\n",
            "Epoch 90/150\n",
            " - 0s - loss: 0.4426 - accuracy: 0.8100 - val_loss: 0.4100 - val_accuracy: 0.8320\n",
            "Epoch 91/150\n",
            " - 0s - loss: 0.4347 - accuracy: 0.8200 - val_loss: 0.4356 - val_accuracy: 0.8220\n",
            "Epoch 92/150\n",
            " - 0s - loss: 0.4285 - accuracy: 0.8200 - val_loss: 0.4286 - val_accuracy: 0.8180\n",
            "Epoch 93/150\n",
            " - 0s - loss: 0.4264 - accuracy: 0.8280 - val_loss: 0.4316 - val_accuracy: 0.8260\n",
            "Epoch 94/150\n",
            " - 0s - loss: 0.4906 - accuracy: 0.7860 - val_loss: 0.4126 - val_accuracy: 0.8320\n",
            "Epoch 95/150\n",
            " - 0s - loss: 0.4364 - accuracy: 0.8260 - val_loss: 0.4993 - val_accuracy: 0.8000\n",
            "Epoch 96/150\n",
            " - 0s - loss: 0.4605 - accuracy: 0.7980 - val_loss: 0.4613 - val_accuracy: 0.8200\n",
            "Epoch 97/150\n",
            " - 0s - loss: 0.4434 - accuracy: 0.7960 - val_loss: 0.4120 - val_accuracy: 0.8340\n",
            "Epoch 98/150\n",
            " - 0s - loss: 0.4324 - accuracy: 0.8140 - val_loss: 0.4151 - val_accuracy: 0.8300\n",
            "Epoch 99/150\n",
            " - 0s - loss: 0.4383 - accuracy: 0.8000 - val_loss: 0.4139 - val_accuracy: 0.8340\n",
            "Epoch 100/150\n",
            " - 0s - loss: 0.4219 - accuracy: 0.8320 - val_loss: 0.4074 - val_accuracy: 0.8320\n",
            "Epoch 101/150\n",
            " - 0s - loss: 0.4373 - accuracy: 0.8060 - val_loss: 0.5752 - val_accuracy: 0.7320\n",
            "Epoch 102/150\n",
            " - 0s - loss: 0.4477 - accuracy: 0.8180 - val_loss: 0.4090 - val_accuracy: 0.8320\n",
            "Epoch 103/150\n",
            " - 0s - loss: 0.4326 - accuracy: 0.8000 - val_loss: 0.4546 - val_accuracy: 0.8120\n",
            "Epoch 104/150\n",
            " - 0s - loss: 0.4443 - accuracy: 0.8060 - val_loss: 0.4155 - val_accuracy: 0.8220\n",
            "Epoch 105/150\n",
            " - 0s - loss: 0.4395 - accuracy: 0.8020 - val_loss: 0.4408 - val_accuracy: 0.7960\n",
            "Epoch 106/150\n",
            " - 0s - loss: 0.4677 - accuracy: 0.7940 - val_loss: 0.4139 - val_accuracy: 0.8300\n",
            "Epoch 107/150\n",
            " - 0s - loss: 0.4388 - accuracy: 0.8160 - val_loss: 0.4102 - val_accuracy: 0.8300\n",
            "Epoch 108/150\n",
            " - 0s - loss: 0.4351 - accuracy: 0.8200 - val_loss: 0.4042 - val_accuracy: 0.8300\n",
            "Epoch 109/150\n",
            " - 0s - loss: 0.4302 - accuracy: 0.8180 - val_loss: 0.4055 - val_accuracy: 0.8400\n",
            "Epoch 110/150\n",
            " - 0s - loss: 0.4450 - accuracy: 0.8180 - val_loss: 0.4811 - val_accuracy: 0.7980\n",
            "Epoch 111/150\n",
            " - 0s - loss: 0.4130 - accuracy: 0.8200 - val_loss: 0.4083 - val_accuracy: 0.8260\n",
            "Epoch 112/150\n",
            " - 0s - loss: 0.4204 - accuracy: 0.8260 - val_loss: 0.4563 - val_accuracy: 0.8120\n",
            "Epoch 113/150\n",
            " - 0s - loss: 0.4396 - accuracy: 0.8040 - val_loss: 0.4393 - val_accuracy: 0.8200\n",
            "Epoch 114/150\n",
            " - 0s - loss: 0.4305 - accuracy: 0.8200 - val_loss: 0.4801 - val_accuracy: 0.8000\n",
            "Epoch 115/150\n",
            " - 0s - loss: 0.4405 - accuracy: 0.8100 - val_loss: 0.4113 - val_accuracy: 0.8340\n",
            "Epoch 116/150\n",
            " - 0s - loss: 0.4209 - accuracy: 0.8180 - val_loss: 0.4174 - val_accuracy: 0.8320\n",
            "Epoch 117/150\n",
            " - 0s - loss: 0.4194 - accuracy: 0.8180 - val_loss: 0.4026 - val_accuracy: 0.8340\n",
            "Epoch 118/150\n",
            " - 0s - loss: 0.4260 - accuracy: 0.8320 - val_loss: 0.4145 - val_accuracy: 0.8320\n",
            "Epoch 119/150\n",
            " - 0s - loss: 0.4411 - accuracy: 0.8140 - val_loss: 0.4020 - val_accuracy: 0.8380\n",
            "Epoch 120/150\n",
            " - 0s - loss: 0.4354 - accuracy: 0.8080 - val_loss: 0.4675 - val_accuracy: 0.8040\n",
            "Epoch 121/150\n",
            " - 0s - loss: 0.4167 - accuracy: 0.8380 - val_loss: 0.4188 - val_accuracy: 0.8340\n",
            "Epoch 122/150\n",
            " - 0s - loss: 0.4567 - accuracy: 0.7960 - val_loss: 0.4148 - val_accuracy: 0.8280\n",
            "Epoch 123/150\n",
            " - 0s - loss: 0.4712 - accuracy: 0.7900 - val_loss: 0.4101 - val_accuracy: 0.8240\n",
            "Epoch 124/150\n",
            " - 0s - loss: 0.4785 - accuracy: 0.8000 - val_loss: 0.4192 - val_accuracy: 0.8220\n",
            "Epoch 125/150\n",
            " - 0s - loss: 0.4193 - accuracy: 0.8240 - val_loss: 0.4142 - val_accuracy: 0.8300\n",
            "Epoch 126/150\n",
            " - 0s - loss: 0.4446 - accuracy: 0.8160 - val_loss: 0.6449 - val_accuracy: 0.7060\n",
            "Epoch 127/150\n",
            " - 0s - loss: 0.4869 - accuracy: 0.8060 - val_loss: 0.4232 - val_accuracy: 0.8280\n",
            "Epoch 128/150\n",
            " - 0s - loss: 0.4159 - accuracy: 0.8220 - val_loss: 0.4103 - val_accuracy: 0.8320\n",
            "Epoch 129/150\n",
            " - 0s - loss: 0.4194 - accuracy: 0.8180 - val_loss: 0.4064 - val_accuracy: 0.8320\n",
            "Epoch 130/150\n",
            " - 0s - loss: 0.4392 - accuracy: 0.8080 - val_loss: 0.4196 - val_accuracy: 0.8300\n",
            "Epoch 131/150\n",
            " - 0s - loss: 0.4309 - accuracy: 0.8180 - val_loss: 0.4618 - val_accuracy: 0.8100\n",
            "Epoch 132/150\n",
            " - 0s - loss: 0.4198 - accuracy: 0.8240 - val_loss: 0.4987 - val_accuracy: 0.7860\n",
            "Epoch 133/150\n",
            " - 0s - loss: 0.5004 - accuracy: 0.8040 - val_loss: 0.4321 - val_accuracy: 0.8260\n",
            "Epoch 134/150\n",
            " - 0s - loss: 0.4490 - accuracy: 0.8120 - val_loss: 0.4074 - val_accuracy: 0.8360\n",
            "Epoch 135/150\n",
            " - 0s - loss: 0.4231 - accuracy: 0.8140 - val_loss: 0.4249 - val_accuracy: 0.8340\n",
            "Epoch 136/150\n",
            " - 0s - loss: 0.4170 - accuracy: 0.8180 - val_loss: 0.4015 - val_accuracy: 0.8340\n",
            "Epoch 137/150\n",
            " - 0s - loss: 0.4200 - accuracy: 0.8220 - val_loss: 0.4250 - val_accuracy: 0.8240\n",
            "Epoch 138/150\n",
            " - 0s - loss: 0.4252 - accuracy: 0.8260 - val_loss: 0.3972 - val_accuracy: 0.8360\n",
            "Epoch 139/150\n",
            " - 0s - loss: 0.4272 - accuracy: 0.8280 - val_loss: 0.3995 - val_accuracy: 0.8340\n",
            "Epoch 140/150\n",
            " - 0s - loss: 0.4298 - accuracy: 0.8040 - val_loss: 0.4175 - val_accuracy: 0.8360\n",
            "Epoch 141/150\n",
            " - 0s - loss: 0.4321 - accuracy: 0.8040 - val_loss: 0.4371 - val_accuracy: 0.8260\n",
            "Epoch 142/150\n",
            " - 0s - loss: 0.4292 - accuracy: 0.8200 - val_loss: 0.4060 - val_accuracy: 0.8280\n",
            "Epoch 143/150\n",
            " - 0s - loss: 0.4145 - accuracy: 0.8220 - val_loss: 0.4755 - val_accuracy: 0.8000\n",
            "Epoch 144/150\n",
            " - 0s - loss: 0.4790 - accuracy: 0.8020 - val_loss: 0.4301 - val_accuracy: 0.8200\n",
            "Epoch 145/150\n",
            " - 0s - loss: 0.4327 - accuracy: 0.8220 - val_loss: 0.4531 - val_accuracy: 0.8120\n",
            "Epoch 146/150\n",
            " - 0s - loss: 0.4279 - accuracy: 0.8200 - val_loss: 0.4311 - val_accuracy: 0.8260\n",
            "Epoch 147/150\n",
            " - 0s - loss: 0.4179 - accuracy: 0.8340 - val_loss: 0.4220 - val_accuracy: 0.8180\n",
            "Epoch 148/150\n",
            " - 0s - loss: 0.4223 - accuracy: 0.8120 - val_loss: 0.4171 - val_accuracy: 0.8320\n",
            "Epoch 149/150\n",
            " - 0s - loss: 0.4150 - accuracy: 0.8160 - val_loss: 0.3987 - val_accuracy: 0.8300\n",
            "Epoch 150/150\n",
            " - 0s - loss: 0.4518 - accuracy: 0.8200 - val_loss: 0.4100 - val_accuracy: 0.8260\n",
            "accuracy =  0.820   validation loss =  0.410\n"
          ],
          "name": "stdout"
        },
        {
          "output_type": "display_data",
          "data": {
            "image/png": "[encoded data removed]",
            "text/plain": [
              "<Figure size 432x288 with 1 Axes>"
            ]
          },
          "metadata": {
            "tags": []
          }
        },
        {
          "output_type": "stream",
          "text": [
            "CPU times: user 10.2 s, sys: 496 ms, total: 10.7 s\n",
            "Wall time: 9.38 s\n"
          ],
          "name": "stdout"
        }
      ]
    },
    {
      "cell_type": "markdown",
      "metadata": {
        "id": "U7B16qvfgODH",
        "colab_type": "text"
      },
      "source": [
        "Q7 . RNN 문장 생성기\n"
      ]
    },
    {
      "cell_type": "code",
      "metadata": {
        "id": "_2DqrQtH9Itp",
        "colab_type": "code",
        "colab": {
          "base_uri": "https://localhost:8080/",
          "height": 1000
        },
        "outputId": "2b127602-69e9-4aff-bc40-916c101b92fa"
      },
      "source": [
        "# 다음의 코드를 완성하시오\n",
        "from tensorflow.keras.preprocessing.text import Tokenizer\n",
        "from tensorflow.keras.preprocessing.sequence import pad_sequences\n",
        "import numpy as np\n",
        "from tensorflow.keras.utils import to_categorical\n",
        "\n",
        "text=\"\"\"특히 최근 수도권에서는 교회 소모임 참석자에 이어 이들 가족과 지인으로 번지는 2차 감염 사례가 증가하고 있습니다. 중앙재난안전대책본부는 오늘까지 수도권 교회와 관련한 코로나19 확진자는 총 63명이라고 밝혔으며  2차 감염자는 33명 이라고 전했습니다. \"\"\"\n",
        "\n",
        "\n",
        "t = Tokenizer()\n",
        "t.fit_on_texts([text])\n",
        "vocab_size = len(t.word_index) + 1\n",
        "print('단어 집합의 크기 : %d' % vocab_size)\n",
        "\n",
        "\n",
        "print(t.word_index)\n",
        "\n",
        "sequences = list()\n",
        "for line in text.split('\\n'): \n",
        "    encoded = t.texts_to_sequences([line])[0]\n",
        "    for i in range(1, len(encoded)):\n",
        "        sequence = encoded[:i+1]\n",
        "        sequences.append(sequence)\n",
        "\n",
        "print('학습에 사용할 샘플의 개수: %d' % len(sequences))\n",
        "\n",
        "\n",
        "max_len=max(len(l) for l in sequences) \n",
        "\n",
        "sequences = pad_sequences(sequences, maxlen=max_len, padding='pre')\n",
        "\n",
        "sequences = np.array(sequences)\n",
        "X = sequences[:,:-1]\n",
        "y = sequences[:,-1]\n",
        "\n",
        "\n",
        "from tensorflow.keras.models import Sequential\n",
        "from tensorflow.keras.layers import Embedding, Dense, SimpleRNN\n",
        "\n",
        "model = Sequential()\n",
        "model.add(Embedding(vocab_size, 10, input_length=max_len-1))  \n",
        "model.add(SimpleRNN(32))\n",
        "model.add(Dense(vocab_size, activation='softmax'))\n",
        "model.compile(loss='sparse_categorical_crossentropy', optimizer='adam', metrics=['accuracy'])\n",
        "model.fit(X, y, epochs=120, verbose=2)\n",
        "\n",
        "# 이 블록에서 yoou_code_here 부분을 완성하시오\n",
        "def sentence_generation(model, t, current_word, n): # model = 모델, t = 토크나이저, current_word = 현재 단어, n = 반복할 횟수\n",
        "    init_word = current_word # 처음 들어온 단어도 마지막에 같이 출력하기위해 저장\n",
        "    sentence = ''\n",
        "    for _ in range(n): # n번 반복\n",
        "        encoded = t.texts_to_sequences([current_word])[0] # 현재 단어에 대한 정수 인코딩\n",
        "        encoded = pad_sequences([encoded], maxlen=30, padding='pre') # 데이터에 대한 패딩\n",
        "        result = np.argmax(model.predict(encoded), axis=-1)\n",
        "        for word, index in t.word_index.items(): \n",
        "            if index == result: # 만약 예측한 단어의 인덱스 값이 동일한 단어가 있다면\n",
        "                break # 해당 단어가 예측 단어이므로 break\n",
        "        current_word = word # 현재 단어 + ' ' + 예측한 단어를 current_word로 저장\n",
        "        sentence = sentence + ' '+ word # 예측한 단어를 sentence에 append\n",
        "     \n",
        "    sentence = init_word + sentence # 초기의 텍스트와 for loop에서 생성된 텍스트를 concatenate\n",
        "    return sentence\n",
        "\n",
        "print(sentence_generation(model, t, '특히', 10))"
      ],
      "execution_count": 15,
      "outputs": [
        {
          "output_type": "stream",
          "text": [
            "단어 집합의 크기 : 31\n",
            "{'2차': 1, '특히': 2, '최근': 3, '수도권에서는': 4, '교회': 5, '소모임': 6, '참석자에': 7, '이어': 8, '이들': 9, '가족과': 10, '지인으로': 11, '번지는': 12, '감염': 13, '사례가': 14, '증가하고': 15, '있습니다': 16, '중앙재난안전대책본부는': 17, '오늘까지': 18, '수도권': 19, '교회와': 20, '관련한': 21, '코로나19': 22, '확진자는': 23, '총': 24, '63명이라고': 25, '밝혔으며': 26, '감염자는': 27, '33명': 28, '이라고': 29, '전했습니다': 30}\n",
            "학습에 사용할 샘플의 개수: 30\n",
            "WARNING:tensorflow:From /usr/local/lib/python3.6/dist-packages/tensorflow/python/keras/initializers.py:119: calling RandomUniform.__init__ (from tensorflow.python.ops.init_ops) with dtype is deprecated and will be removed in a future version.\n",
            "Instructions for updating:\n",
            "Call initializer instance with the dtype argument instead of passing it to the constructor\n",
            "Train on 30 samples\n",
            "Epoch 1/120\n",
            "30/30 - 0s - loss: 3.4354 - acc: 0.0333\n",
            "Epoch 2/120\n",
            "30/30 - 0s - loss: 3.4167 - acc: 0.0333\n",
            "Epoch 3/120\n",
            "30/30 - 0s - loss: 3.3992 - acc: 0.1000\n",
            "Epoch 4/120\n",
            "30/30 - 0s - loss: 3.3821 - acc: 0.0667\n",
            "Epoch 5/120\n",
            "30/30 - 0s - loss: 3.3647 - acc: 0.1667\n",
            "Epoch 6/120\n",
            "30/30 - 0s - loss: 3.3462 - acc: 0.2000\n",
            "Epoch 7/120\n",
            "30/30 - 0s - loss: 3.3268 - acc: 0.2333\n",
            "Epoch 8/120\n",
            "30/30 - 0s - loss: 3.3063 - acc: 0.2333\n",
            "Epoch 9/120\n",
            "30/30 - 0s - loss: 3.2849 - acc: 0.2000\n",
            "Epoch 10/120\n",
            "30/30 - 0s - loss: 3.2629 - acc: 0.2000\n",
            "Epoch 11/120\n",
            "30/30 - 0s - loss: 3.2408 - acc: 0.1667\n",
            "Epoch 12/120\n",
            "30/30 - 0s - loss: 3.2193 - acc: 0.1667\n",
            "Epoch 13/120\n",
            "30/30 - 0s - loss: 3.1989 - acc: 0.1667\n",
            "Epoch 14/120\n",
            "30/30 - 0s - loss: 3.1792 - acc: 0.1667\n",
            "Epoch 15/120\n",
            "30/30 - 0s - loss: 3.1595 - acc: 0.1667\n",
            "Epoch 16/120\n",
            "30/30 - 0s - loss: 3.1389 - acc: 0.2000\n",
            "Epoch 17/120\n",
            "30/30 - 0s - loss: 3.1173 - acc: 0.2000\n",
            "Epoch 18/120\n",
            "30/30 - 0s - loss: 3.0958 - acc: 0.2000\n",
            "Epoch 19/120\n",
            "30/30 - 0s - loss: 3.0769 - acc: 0.2333\n",
            "Epoch 20/120\n",
            "30/30 - 0s - loss: 3.0612 - acc: 0.2333\n",
            "Epoch 21/120\n",
            "30/30 - 0s - loss: 3.0447 - acc: 0.2333\n",
            "Epoch 22/120\n",
            "30/30 - 0s - loss: 3.0248 - acc: 0.2333\n",
            "Epoch 23/120\n",
            "30/30 - 0s - loss: 3.0025 - acc: 0.2333\n",
            "Epoch 24/120\n",
            "30/30 - 0s - loss: 2.9806 - acc: 0.2333\n",
            "Epoch 25/120\n",
            "30/30 - 0s - loss: 2.9607 - acc: 0.2667\n",
            "Epoch 26/120\n",
            "30/30 - 0s - loss: 2.9430 - acc: 0.2333\n",
            "Epoch 27/120\n",
            "30/30 - 0s - loss: 2.9252 - acc: 0.2333\n",
            "Epoch 28/120\n",
            "30/30 - 0s - loss: 2.9047 - acc: 0.2333\n",
            "Epoch 29/120\n",
            "30/30 - 0s - loss: 2.8832 - acc: 0.2333\n",
            "Epoch 30/120\n",
            "30/30 - 0s - loss: 2.8619 - acc: 0.2333\n",
            "Epoch 31/120\n",
            "30/30 - 0s - loss: 2.8421 - acc: 0.2333\n",
            "Epoch 32/120\n",
            "30/30 - 0s - loss: 2.8210 - acc: 0.2667\n",
            "Epoch 33/120\n",
            "30/30 - 0s - loss: 2.7990 - acc: 0.3333\n",
            "Epoch 34/120\n",
            "30/30 - 0s - loss: 2.7791 - acc: 0.3333\n",
            "Epoch 35/120\n",
            "30/30 - 0s - loss: 2.7607 - acc: 0.3667\n",
            "Epoch 36/120\n",
            "30/30 - 0s - loss: 2.7393 - acc: 0.3667\n",
            "Epoch 37/120\n",
            "30/30 - 0s - loss: 2.7165 - acc: 0.3333\n",
            "Epoch 38/120\n",
            "30/30 - 0s - loss: 2.6960 - acc: 0.3667\n",
            "Epoch 39/120\n",
            "30/30 - 0s - loss: 2.6757 - acc: 0.3333\n",
            "Epoch 40/120\n",
            "30/30 - 0s - loss: 2.6515 - acc: 0.3333\n",
            "Epoch 41/120\n",
            "30/30 - 0s - loss: 2.6327 - acc: 0.3333\n",
            "Epoch 42/120\n",
            "30/30 - 0s - loss: 2.6132 - acc: 0.3667\n",
            "Epoch 43/120\n",
            "30/30 - 0s - loss: 2.5987 - acc: 0.3333\n",
            "Epoch 44/120\n",
            "30/30 - 0s - loss: 2.5852 - acc: 0.3000\n",
            "Epoch 45/120\n",
            "30/30 - 0s - loss: 2.5596 - acc: 0.3667\n",
            "Epoch 46/120\n",
            "30/30 - 0s - loss: 2.5411 - acc: 0.5000\n",
            "Epoch 47/120\n",
            "30/30 - 0s - loss: 2.5140 - acc: 0.4000\n",
            "Epoch 48/120\n",
            "30/30 - 0s - loss: 2.5009 - acc: 0.4000\n",
            "Epoch 49/120\n",
            "30/30 - 0s - loss: 2.4789 - acc: 0.5000\n",
            "Epoch 50/120\n",
            "30/30 - 0s - loss: 2.4588 - acc: 0.6333\n",
            "Epoch 51/120\n",
            "30/30 - 0s - loss: 2.4419 - acc: 0.6000\n",
            "Epoch 52/120\n",
            "30/30 - 0s - loss: 2.4194 - acc: 0.5000\n",
            "Epoch 53/120\n",
            "30/30 - 0s - loss: 2.4028 - acc: 0.4667\n",
            "Epoch 54/120\n",
            "30/30 - 0s - loss: 2.3797 - acc: 0.5667\n",
            "Epoch 55/120\n",
            "30/30 - 0s - loss: 2.3652 - acc: 0.6000\n",
            "Epoch 56/120\n",
            "30/30 - 0s - loss: 2.3382 - acc: 0.6000\n",
            "Epoch 57/120\n",
            "30/30 - 0s - loss: 2.3257 - acc: 0.5333\n",
            "Epoch 58/120\n",
            "30/30 - 0s - loss: 2.3017 - acc: 0.5667\n",
            "Epoch 59/120\n",
            "30/30 - 0s - loss: 2.2930 - acc: 0.6333\n",
            "Epoch 60/120\n",
            "30/30 - 0s - loss: 2.2845 - acc: 0.5667\n",
            "Epoch 61/120\n",
            "30/30 - 0s - loss: 2.2524 - acc: 0.5667\n",
            "Epoch 62/120\n",
            "30/30 - 0s - loss: 2.2590 - acc: 0.6000\n",
            "Epoch 63/120\n",
            "30/30 - 0s - loss: 2.2219 - acc: 0.5333\n",
            "Epoch 64/120\n",
            "30/30 - 0s - loss: 2.2129 - acc: 0.6000\n",
            "Epoch 65/120\n",
            "30/30 - 0s - loss: 2.1873 - acc: 0.7333\n",
            "Epoch 66/120\n",
            "30/30 - 0s - loss: 2.1689 - acc: 0.7000\n",
            "Epoch 67/120\n",
            "30/30 - 0s - loss: 2.1556 - acc: 0.6667\n",
            "Epoch 68/120\n",
            "30/30 - 0s - loss: 2.1310 - acc: 0.7000\n",
            "Epoch 69/120\n",
            "30/30 - 0s - loss: 2.1212 - acc: 0.7333\n",
            "Epoch 70/120\n",
            "30/30 - 0s - loss: 2.0926 - acc: 0.7000\n",
            "Epoch 71/120\n",
            "30/30 - 0s - loss: 2.0824 - acc: 0.6667\n",
            "Epoch 72/120\n",
            "30/30 - 0s - loss: 2.0605 - acc: 0.8000\n",
            "Epoch 73/120\n",
            "30/30 - 0s - loss: 2.0447 - acc: 0.7667\n",
            "Epoch 74/120\n",
            "30/30 - 0s - loss: 2.0254 - acc: 0.7333\n",
            "Epoch 75/120\n",
            "30/30 - 0s - loss: 2.0058 - acc: 0.7333\n",
            "Epoch 76/120\n",
            "30/30 - 0s - loss: 1.9913 - acc: 0.7667\n",
            "Epoch 77/120\n",
            "30/30 - 0s - loss: 1.9700 - acc: 0.7333\n",
            "Epoch 78/120\n",
            "30/30 - 0s - loss: 1.9555 - acc: 0.7667\n",
            "Epoch 79/120\n",
            "30/30 - 0s - loss: 1.9359 - acc: 0.7333\n",
            "Epoch 80/120\n",
            "30/30 - 0s - loss: 1.9213 - acc: 0.7333\n",
            "Epoch 81/120\n",
            "30/30 - 0s - loss: 1.8988 - acc: 0.7333\n",
            "Epoch 82/120\n",
            "30/30 - 0s - loss: 1.8869 - acc: 0.7667\n",
            "Epoch 83/120\n",
            "30/30 - 0s - loss: 1.8681 - acc: 0.7667\n",
            "Epoch 84/120\n",
            "30/30 - 0s - loss: 1.8496 - acc: 0.7333\n",
            "Epoch 85/120\n",
            "30/30 - 0s - loss: 1.8318 - acc: 0.8000\n",
            "Epoch 86/120\n",
            "30/30 - 0s - loss: 1.8175 - acc: 0.7667\n",
            "Epoch 87/120\n",
            "30/30 - 0s - loss: 1.8009 - acc: 0.7333\n",
            "Epoch 88/120\n",
            "30/30 - 0s - loss: 1.7839 - acc: 0.7667\n",
            "Epoch 89/120\n",
            "30/30 - 0s - loss: 1.7697 - acc: 0.8333\n",
            "Epoch 90/120\n",
            "30/30 - 0s - loss: 1.7583 - acc: 0.8000\n",
            "Epoch 91/120\n",
            "30/30 - 0s - loss: 1.7532 - acc: 0.9000\n",
            "Epoch 92/120\n",
            "30/30 - 0s - loss: 1.7149 - acc: 0.7667\n",
            "Epoch 93/120\n",
            "30/30 - 0s - loss: 1.7063 - acc: 0.8333\n",
            "Epoch 94/120\n",
            "30/30 - 0s - loss: 1.7028 - acc: 0.8333\n",
            "Epoch 95/120\n",
            "30/30 - 0s - loss: 1.6767 - acc: 0.7667\n",
            "Epoch 96/120\n",
            "30/30 - 0s - loss: 1.6513 - acc: 0.8000\n",
            "Epoch 97/120\n",
            "30/30 - 0s - loss: 1.6498 - acc: 0.8333\n",
            "Epoch 98/120\n",
            "30/30 - 0s - loss: 1.6302 - acc: 0.8333\n",
            "Epoch 99/120\n",
            "30/30 - 0s - loss: 1.6108 - acc: 0.9000\n",
            "Epoch 100/120\n",
            "30/30 - 0s - loss: 1.5939 - acc: 0.8667\n",
            "Epoch 101/120\n",
            "30/30 - 0s - loss: 1.5897 - acc: 0.8333\n",
            "Epoch 102/120\n",
            "30/30 - 0s - loss: 1.5710 - acc: 0.9000\n",
            "Epoch 103/120\n",
            "30/30 - 0s - loss: 1.5497 - acc: 0.8667\n",
            "Epoch 104/120\n",
            "30/30 - 0s - loss: 1.5457 - acc: 0.8000\n",
            "Epoch 105/120\n",
            "30/30 - 0s - loss: 1.5313 - acc: 0.8667\n",
            "Epoch 106/120\n",
            "30/30 - 0s - loss: 1.5034 - acc: 0.8667\n",
            "Epoch 107/120\n",
            "30/30 - 0s - loss: 1.4976 - acc: 0.8667\n",
            "Epoch 108/120\n",
            "30/30 - 0s - loss: 1.4870 - acc: 0.8667\n",
            "Epoch 109/120\n",
            "30/30 - 0s - loss: 1.4589 - acc: 0.9000\n",
            "Epoch 110/120\n",
            "30/30 - 0s - loss: 1.4545 - acc: 0.9000\n",
            "Epoch 111/120\n",
            "30/30 - 0s - loss: 1.4368 - acc: 0.9000\n",
            "Epoch 112/120\n",
            "30/30 - 0s - loss: 1.4205 - acc: 0.8667\n",
            "Epoch 113/120\n",
            "30/30 - 0s - loss: 1.4091 - acc: 0.9000\n",
            "Epoch 114/120\n",
            "30/30 - 0s - loss: 1.3938 - acc: 0.9000\n",
            "Epoch 115/120\n",
            "30/30 - 0s - loss: 1.3816 - acc: 0.9000\n",
            "Epoch 116/120\n",
            "30/30 - 0s - loss: 1.3697 - acc: 0.8667\n",
            "Epoch 117/120\n",
            "30/30 - 0s - loss: 1.3483 - acc: 0.9000\n",
            "Epoch 118/120\n",
            "30/30 - 0s - loss: 1.3381 - acc: 0.9000\n",
            "Epoch 119/120\n",
            "30/30 - 0s - loss: 1.3258 - acc: 0.8667\n",
            "Epoch 120/120\n",
            "30/30 - 0s - loss: 1.3137 - acc: 0.9000\n",
            "특히 수도권에서는 수도권에서는 수도권에서는 수도권에서는 수도권에서는 수도권에서는 수도권에서는 수도권에서는 수도권에서는 수도권에서는\n"
          ],
          "name": "stdout"
        }
      ]
    },
    {
      "cell_type": "code",
      "metadata": {
        "id": "LWpDJMpPi3os",
        "colab_type": "code",
        "colab": {}
      },
      "source": [
        ""
      ],
      "execution_count": 0,
      "outputs": []
    },
    {
      "cell_type": "markdown",
      "metadata": {
        "id": "Q_ZqqZcvN1PQ",
        "colab_type": "text"
      },
      "source": [
        "## 20년1학기-기말고사-yourname.ipynb로 다운로드한 후 제출하십시오.\n",
        "수고하였습니다!"
      ]
    }
  ]
}